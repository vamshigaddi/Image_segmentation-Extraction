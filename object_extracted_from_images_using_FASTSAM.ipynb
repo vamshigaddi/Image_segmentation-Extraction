{
  "nbformat": 4,
  "nbformat_minor": 0,
  "metadata": {
    "colab": {
      "provenance": [],
      "gpuType": "T4",
      "mount_file_id": "1Ony10IqBTkbNm5gNuORQk6_wPhGfLPoI",
      "authorship_tag": "ABX9TyPDnis4fEWJEmMPXpWbCN/G",
      "include_colab_link": true
    },
    "kernelspec": {
      "name": "python3",
      "display_name": "Python 3"
    },
    "language_info": {
      "name": "python"
    },
    "accelerator": "GPU"
  },
  "cells": [
    {
      "cell_type": "markdown",
      "metadata": {
        "id": "view-in-github",
        "colab_type": "text"
      },
      "source": [
        "<a href=\"https://colab.research.google.com/github/vamshigaddi/Image_segmentation-Extraction/blob/main/object_extracted_from_images_using_FASTSAM.ipynb\" target=\"_parent\"><img src=\"https://colab.research.google.com/assets/colab-badge.svg\" alt=\"Open In Colab\"/></a>"
      ]
    },
    {
      "cell_type": "code",
      "execution_count": null,
      "metadata": {
        "id": "Am2VVuWEFoXl"
      },
      "outputs": [],
      "source": []
    },
    {
      "cell_type": "code",
      "source": [
        "!git clone https://github.com/CASIA-IVA-Lab/FastSAM.git\n",
        "!pip -q install -r FastSAM/requirements.txt\n",
        "!pip -q install git+https://github.com/openai/CLIP.git roboflow supervision"
      ],
      "metadata": {
        "id": "s1Miw1QcFpDl"
      },
      "execution_count": null,
      "outputs": []
    },
    {
      "cell_type": "code",
      "source": [
        "!wget -P FastSAM/weights https://huggingface.co/spaces/An-619/FastSAM/resolve/main/weights/FastSAM.pt"
      ],
      "metadata": {
        "colab": {
          "base_uri": "https://localhost:8080/"
        },
        "id": "5QyzB-tlFpFs",
        "outputId": "a6d51ad9-80cc-4512-f69a-e9b1c3e7476b"
      },
      "execution_count": null,
      "outputs": [
        {
          "output_type": "stream",
          "name": "stdout",
          "text": [
            "--2024-04-23 08:39:43--  https://huggingface.co/spaces/An-619/FastSAM/resolve/main/weights/FastSAM.pt\n",
            "Resolving huggingface.co (huggingface.co)... 18.164.174.55, 18.164.174.118, 18.164.174.17, ...\n",
            "Connecting to huggingface.co (huggingface.co)|18.164.174.55|:443... connected.\n",
            "HTTP request sent, awaiting response... 302 Found\n",
            "Location: https://cdn-lfs.huggingface.co/repos/71/c3/71c3ec5a83f3fc374665cec9240f614262e29088fca1a18732571e13c7084f1b/c0be4e7ddbe4c15333d15a859c676d053c486d0a746a3be6a7a9790d52a9b6d7?response-content-disposition=attachment%3B+filename*%3DUTF-8%27%27FastSAM.pt%3B+filename%3D%22FastSAM.pt%22%3B&Expires=1714120783&Policy=eyJTdGF0ZW1lbnQiOlt7IkNvbmRpdGlvbiI6eyJEYXRlTGVzc1RoYW4iOnsiQVdTOkVwb2NoVGltZSI6MTcxNDEyMDc4M319LCJSZXNvdXJjZSI6Imh0dHBzOi8vY2RuLWxmcy5odWdnaW5nZmFjZS5jby9yZXBvcy83MS9jMy83MWMzZWM1YTgzZjNmYzM3NDY2NWNlYzkyNDBmNjE0MjYyZTI5MDg4ZmNhMWExODczMjU3MWUxM2M3MDg0ZjFiL2MwYmU0ZTdkZGJlNGMxNTMzM2QxNWE4NTljNjc2ZDA1M2M0ODZkMGE3NDZhM2JlNmE3YTk3OTBkNTJhOWI2ZDc%7EcmVzcG9uc2UtY29udGVudC1kaXNwb3NpdGlvbj0qIn1dfQ__&Signature=SautMaYufVtJFBlIB1xvrAwHszWy1prBInUG2uvm59yio5xIR2WkyCW1-YvHbASGUdaAKvS0zQ0y33tDymBDtvdSVl21Mm%7Ez2X%7EAHWSW--goIBmyCgxSt00l8-tXhHcS%7E6htvka4FpAZ7%7ETZ9qu6%7EvKQptprNxixQeuucZzi5nhzwhkDqhqw2swcd0gmbaZj-TYtz8m1zLfLcQ%7Es8W1Ec-Q3yhy9H9OpZyzgNUaGbFFrxHrpvPLMUBD0B3tVlZz-Y0e6iaMbUMUjtocXQ0DiFLVS7p4GSQn6iuonOp4jOTs5LGNhEcRmZQOcf86D0di9eH753Q-re4Iql98Sp5z02Q__&Key-Pair-Id=KVTP0A1DKRTAX [following]\n",
            "--2024-04-23 08:39:43--  https://cdn-lfs.huggingface.co/repos/71/c3/71c3ec5a83f3fc374665cec9240f614262e29088fca1a18732571e13c7084f1b/c0be4e7ddbe4c15333d15a859c676d053c486d0a746a3be6a7a9790d52a9b6d7?response-content-disposition=attachment%3B+filename*%3DUTF-8%27%27FastSAM.pt%3B+filename%3D%22FastSAM.pt%22%3B&Expires=1714120783&Policy=eyJTdGF0ZW1lbnQiOlt7IkNvbmRpdGlvbiI6eyJEYXRlTGVzc1RoYW4iOnsiQVdTOkVwb2NoVGltZSI6MTcxNDEyMDc4M319LCJSZXNvdXJjZSI6Imh0dHBzOi8vY2RuLWxmcy5odWdnaW5nZmFjZS5jby9yZXBvcy83MS9jMy83MWMzZWM1YTgzZjNmYzM3NDY2NWNlYzkyNDBmNjE0MjYyZTI5MDg4ZmNhMWExODczMjU3MWUxM2M3MDg0ZjFiL2MwYmU0ZTdkZGJlNGMxNTMzM2QxNWE4NTljNjc2ZDA1M2M0ODZkMGE3NDZhM2JlNmE3YTk3OTBkNTJhOWI2ZDc%7EcmVzcG9uc2UtY29udGVudC1kaXNwb3NpdGlvbj0qIn1dfQ__&Signature=SautMaYufVtJFBlIB1xvrAwHszWy1prBInUG2uvm59yio5xIR2WkyCW1-YvHbASGUdaAKvS0zQ0y33tDymBDtvdSVl21Mm%7Ez2X%7EAHWSW--goIBmyCgxSt00l8-tXhHcS%7E6htvka4FpAZ7%7ETZ9qu6%7EvKQptprNxixQeuucZzi5nhzwhkDqhqw2swcd0gmbaZj-TYtz8m1zLfLcQ%7Es8W1Ec-Q3yhy9H9OpZyzgNUaGbFFrxHrpvPLMUBD0B3tVlZz-Y0e6iaMbUMUjtocXQ0DiFLVS7p4GSQn6iuonOp4jOTs5LGNhEcRmZQOcf86D0di9eH753Q-re4Iql98Sp5z02Q__&Key-Pair-Id=KVTP0A1DKRTAX\n",
            "Resolving cdn-lfs.huggingface.co (cdn-lfs.huggingface.co)... 18.65.25.122, 18.65.25.83, 18.65.25.124, ...\n",
            "Connecting to cdn-lfs.huggingface.co (cdn-lfs.huggingface.co)|18.65.25.122|:443... connected.\n",
            "HTTP request sent, awaiting response... 200 OK\n",
            "Length: 144943063 (138M) [application/zip]\n",
            "Saving to: ‘FastSAM/weights/FastSAM.pt’\n",
            "\n",
            "FastSAM.pt          100%[===================>] 138.23M   275MB/s    in 0.5s    \n",
            "\n",
            "2024-04-23 08:39:44 (275 MB/s) - ‘FastSAM/weights/FastSAM.pt’ saved [144943063/144943063]\n",
            "\n"
          ]
        }
      ]
    },
    {
      "cell_type": "code",
      "source": [
        "%cd FastSAM\n",
        "from fastsam import FastSAM, FastSAMPrompt\n",
        "import supervision as sv\n",
        "import roboflow\n",
        "from roboflow import Roboflow\n",
        "import os\n",
        "import matplotlib.pyplot as plt\n",
        "import cv2\n",
        "import numpy as np\n",
        "\n",
        "model = FastSAM('./weights/FastSAM.pt')\n",
        "\n",
        "\n",
        "path= '/content/pexels-padrinan-3785926.jpg'\n",
        "\n",
        "DEVICE='cuda:0'\n",
        "\n",
        "#for idx, img_name in enumerate(Images):\n",
        "    #path = os.path.join(folder, img_name)\n",
        "everything_results = model(path, device=DEVICE, retina_masks=True, imgsz=1024, conf=0.4, iou=0.9)\n",
        "prompt_process = FastSAMPrompt(path, everything_results, device=DEVICE)\n",
        "ann = prompt_process.everything_prompt()\n",
        "output_filename = f'output_images1.jpg'\n",
        "output_path = os.path.join('./output/', output_filename)\n",
        "prompt_process.plot(annotations=ann ,output_path=output_path)\n",
        "\n",
        "\n",
        "# Create a folder to save segmented images\n",
        "output_folder = '/content/seg_img1'\n",
        "os.makedirs(output_folder, exist_ok=True)\n",
        "\n",
        "# Load the original image\n",
        "image = cv2.cvtColor(cv2.imread(path), cv2.COLOR_BGR2RGB)\n",
        "\n",
        "# Iterate through each result in everything_results\n",
        "for idx, result in enumerate(everything_results):\n",
        "    # Assuming each result contains multiple masks\n",
        "    for mask_idx, mask in enumerate(result.masks):\n",
        "        mask_array = mask.data[0].cpu().numpy()\n",
        "        binary_mask = np.where(mask_array > 0.5, 1, 0)\n",
        "\n",
        "        white_background = np.ones_like(image) * 255\n",
        "\n",
        "        # Combine the object with the white background\n",
        "        new_image = white_background * (1 - binary_mask[..., np.newaxis]) + image * binary_mask[..., np.newaxis]\n",
        "\n",
        "        # Save the image\n",
        "        output_filename = os.path.join(output_folder, f'object_{idx}_{mask_idx}.png')\n",
        "        plt.imsave(output_filename, new_image.astype(np.uint8), format='png', dpi=300)"
      ],
      "metadata": {
        "colab": {
          "base_uri": "https://localhost:8080/"
        },
        "id": "9jYdiaPuFpIR",
        "outputId": "e8369c3e-7179-4f83-c9db-594e43386d61"
      },
      "execution_count": null,
      "outputs": [
        {
          "output_type": "stream",
          "name": "stdout",
          "text": [
            "/content/FastSAM\n"
          ]
        },
        {
          "output_type": "stream",
          "name": "stderr",
          "text": [
            "\n",
            "WARNING ⚠️ NMS time limit 0.550s exceeded\n",
            "image 1/1 /content/pexels-padrinan-3785926.jpg: 704x1024 40 objects, 327.7ms\n",
            "Speed: 26.0ms preprocess, 327.7ms inference, 1422.1ms postprocess per image at shape (1, 3, 1024, 1024)\n"
          ]
        }
      ]
    },
    {
      "cell_type": "code",
      "source": [],
      "metadata": {
        "id": "OnOErGyGQshO"
      },
      "execution_count": null,
      "outputs": []
    },
    {
      "cell_type": "code",
      "source": [
        "from fastsam import FastSAM, FastSAMPrompt\n",
        "import supervision as sv\n",
        "import roboflow\n",
        "from roboflow import Roboflow\n",
        "import os\n",
        "import matplotlib.pyplot as plt\n",
        "import cv2\n",
        "import numpy as np\n",
        "\n",
        "model = FastSAM('./weights/FastSAM.pt')\n",
        "\n",
        "#path to the dataset folder contains the images\n",
        "path='/content/pexels-vladimirsrajber-18631420.jpg'\n",
        "\n",
        "DEVICE='cuda:0'\n",
        "\n",
        "#for idx, img_name in enumerate(Images):\n",
        "    #path = os.path.join(folder, img_name)\n",
        "everything_results = model(path, device=DEVICE, retina_masks=True, imgsz=1024, conf=0.4, iou=0.9)\n",
        "prompt_process = FastSAMPrompt(path, everything_results, device=DEVICE)\n",
        "ann = prompt_process.everything_prompt()\n",
        "output_filename = f'output_images6.jpg'\n",
        "output_path = os.path.join('./output/', output_filename)\n",
        "prompt_process.plot(annotations=ann ,output_path=output_path)\n",
        "\n",
        "\n",
        "# Create a folder to save segmented images\n",
        "output_folder = '/content/vladimir_seg_6'\n",
        "os.makedirs(output_folder, exist_ok=True)\n",
        "\n",
        "# Load the original image\n",
        "image = cv2.cvtColor(cv2.imread(path), cv2.COLOR_BGR2RGB)\n",
        "\n",
        "# Iterate through each result in everything_results\n",
        "for idx, result in enumerate(everything_results):\n",
        "    # Assuming each result contains multiple masks\n",
        "    for mask_idx, mask in enumerate(result.masks):\n",
        "        mask_array = mask.data[0].cpu().numpy()\n",
        "        binary_mask = np.where(mask_array > 0.5, 1, 0)\n",
        "\n",
        "        white_background = np.ones_like(image) * 255\n",
        "\n",
        "        # Combine the object with the white background\n",
        "        new_image = white_background * (1 - binary_mask[..., np.newaxis]) + image * binary_mask[..., np.newaxis]\n",
        "\n",
        "        # Save the image\n",
        "        output_filename = os.path.join(output_folder, f'object_{idx}_{mask_idx}.png')\n",
        "        plt.imsave(output_filename, new_image.astype(np.uint8), format='png', dpi=300)"
      ],
      "metadata": {
        "id": "mMj-vswLFpLN",
        "colab": {
          "base_uri": "https://localhost:8080/"
        },
        "outputId": "99b95dd4-7506-44b2-bff1-013d282318a4"
      },
      "execution_count": null,
      "outputs": [
        {
          "output_type": "stream",
          "name": "stderr",
          "text": [
            "\n",
            "image 1/1 /content/pexels-vladimirsrajber-18631420.jpg: 704x1024 106 objects, 135.3ms\n",
            "Speed: 6.6ms preprocess, 135.3ms inference, 19.8ms postprocess per image at shape (1, 3, 1024, 1024)\n"
          ]
        }
      ]
    },
    {
      "cell_type": "code",
      "source": [
        "import os\n",
        "\n",
        "path= '/content/pexels-vladimirsrajber-18631420.jpg'\n",
        "\n",
        "DEVICE='cuda:0'\n",
        "\n",
        "#for idx, img_name in enumerate(Images):\n",
        "    #path = os.path.join(folder, img_name)\n",
        "everything_results = model(path, device=DEVICE, retina_masks=True, imgsz=1024, conf=0.4, iou=0.9)\n",
        "prompt_process = FastSAMPrompt(path, everything_results, device=DEVICE)\n",
        "ann = prompt_process.everything_prompt()\n",
        "output_filename = f'output_imagesy1.jpg'\n",
        "output_path = os.path.join('./output/', output_filename)\n",
        "prompt_process.plot(annotations=ann ,output_path=output_path)"
      ],
      "metadata": {
        "colab": {
          "base_uri": "https://localhost:8080/"
        },
        "id": "jSshZqlWQwzd",
        "outputId": "871dc447-2466-479f-d924-87e381e48637"
      },
      "execution_count": null,
      "outputs": [
        {
          "output_type": "stream",
          "name": "stderr",
          "text": [
            "\n",
            "image 1/1 /content/pexels-vladimirsrajber-18631420.jpg: 704x1024 106 objects, 144.6ms\n",
            "Speed: 13.3ms preprocess, 144.6ms inference, 20.2ms postprocess per image at shape (1, 3, 1024, 1024)\n"
          ]
        }
      ]
    },
    {
      "cell_type": "code",
      "source": [],
      "metadata": {
        "id": "oRw4cpQKQxAB"
      },
      "execution_count": null,
      "outputs": []
    },
    {
      "cell_type": "code",
      "source": [],
      "metadata": {
        "id": "BU3910upQxCC"
      },
      "execution_count": null,
      "outputs": []
    },
    {
      "cell_type": "code",
      "source": [],
      "metadata": {
        "id": "ndy-0F57QxEk"
      },
      "execution_count": null,
      "outputs": []
    },
    {
      "cell_type": "code",
      "source": [],
      "metadata": {
        "id": "_wpPCcvFQxGn"
      },
      "execution_count": null,
      "outputs": []
    },
    {
      "cell_type": "code",
      "source": [],
      "metadata": {
        "id": "5AYCzQ1HQxI6"
      },
      "execution_count": null,
      "outputs": []
    },
    {
      "cell_type": "code",
      "source": [],
      "metadata": {
        "id": "s2XzVdaxQxL3"
      },
      "execution_count": null,
      "outputs": []
    },
    {
      "cell_type": "code",
      "source": [],
      "metadata": {
        "id": "fkLZa1vPQxON"
      },
      "execution_count": null,
      "outputs": []
    },
    {
      "cell_type": "code",
      "source": [],
      "metadata": {
        "id": "Nje6WyraQxSQ"
      },
      "execution_count": null,
      "outputs": []
    },
    {
      "cell_type": "code",
      "source": [],
      "metadata": {
        "id": "bhKSslaWQxc5"
      },
      "execution_count": null,
      "outputs": []
    },
    {
      "cell_type": "code",
      "source": [],
      "metadata": {
        "id": "mvuunEVJFpVz"
      },
      "execution_count": null,
      "outputs": []
    },
    {
      "cell_type": "code",
      "source": [],
      "metadata": {
        "id": "IBuSGdTiFpYa"
      },
      "execution_count": null,
      "outputs": []
    },
    {
      "cell_type": "code",
      "source": [],
      "metadata": {
        "id": "YkRvSn2sFpal"
      },
      "execution_count": null,
      "outputs": []
    },
    {
      "cell_type": "code",
      "source": [],
      "metadata": {
        "id": "zDWP0YrtFpeK"
      },
      "execution_count": null,
      "outputs": []
    },
    {
      "cell_type": "code",
      "source": [],
      "metadata": {
        "id": "rgKkY1b0Fr5Y"
      },
      "execution_count": null,
      "outputs": []
    },
    {
      "cell_type": "code",
      "source": [],
      "metadata": {
        "id": "v5IZhgNoFr8_"
      },
      "execution_count": null,
      "outputs": []
    }
  ]
}